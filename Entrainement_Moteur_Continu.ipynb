{
 "cells": [
  {
   "cell_type": "markdown",
   "metadata": {},
   "source": [
    "# TD1 : Entrainement d'un moteur à courant continu\n",
    "\n",
    "> Semestre P2020\n",
    "    <p>CHOQUEUSE Vincent</p>\n",
    "\n",
    "On se propose d’étudier le schéma synoptique de mise en œuvre d’un correcteur pour la régulation d’un processus analogique (un moteur à courant continu) caractérisé par sa fonction de transfert $F(p)$. Il s’agit de contrôler la vitesse de rotation du moteur."
   ]
  },
  {
   "cell_type": "code",
   "execution_count": 15,
   "metadata": {},
   "outputs": [],
   "source": [
    "import numpy as np\n",
    "from scipy.signal import lti  \n",
    "import matplotlib.pyplot as plt"
   ]
  },
  {
   "cell_type": "markdown",
   "metadata": {},
   "source": [
    "## Description du système.\n",
    "\n",
    "Le système est constitué par un moteur à courant continu, entraînant une charge. La grandeur d'entrée est la tension $U_m(t)$ aux bornes de l'induit. Le paramètre à commander est la vitesse de rotation de rotation $\\Omega(t)$ (rad/s).\n",
    "\n",
    "\n",
    "<figure>\n",
    "    <img src=\"img/fig1.png\" style=\"width: 600px\">\n",
    "    <figcaption style=\"text-align:center;font-style: italic;\">Fig1. Description du système</figcaption>\n",
    "</figure>\n",
    "\n",
    "\n",
    "Pour faciliter la modélisation, on formule les hypothèses suivantes :\n",
    "* On néglige les frottements $f$ du moteur. On considère uniquement son inertie.\n",
    "* L'effet de réaction de l'induit est supposé nul, on considère seulement sa résistance $R$.\n",
    "\n",
    "On rappelle ci-dessous les équations du moteur : \n",
    "\n",
    "\\begin{align}\n",
    "E(t) &= k.\\Omega(t)\\tag{fém}\\\\\n",
    "U_m(t)&=E(t)+Ri(t)\\tag{circuit électrique}\\\\\n",
    "J\\frac{d\\Omega(t)}{dt}&=C_m(t)=ki(t)\\tag{moment d'inertie}\n",
    "\\end{align}"
   ]
  },
  {
   "cell_type": "markdown",
   "metadata": {},
   "source": [
    "## 1. Détermination de la fonction de transfert du moteur\n",
    "\n",
    "**Question 1:** \n",
    "\n",
    "* Etablissez la fonction de transfert qui régit l'évolution de la vitesse $\\Omega(t)$ en fonction de la tension d'entrée $u(t)$, c-a-d:\n",
    "\n",
    "$$F(p)=\\frac{\\Omega(p)}{U_m(p)}$$"
   ]
  },
  {
   "cell_type": "markdown",
   "metadata": {},
   "source": [
    "**Réponse:** \n",
    "\n",
    "#### Passage du domaine temporel au domaine de Laplace\n",
    "\n",
    "* Linearité: Si $y(t)=\\alpha_1 x_1(t)+\\alpha_2 x_2(t)$ dans le domaine temporel, nous obtenons $Y(p)=\\alpha_1 X_1(p)+\\alpha_2 X_2(p)$ dans le domaine de Laplace.?\n",
    "* Dérivation: Si $y(t)=\\frac{d x(t)}{dt}$ dans le domaine temporel, nous obtenons $Y(p)=pX(p)$ dans le domaine de Laplace.\n",
    "\n",
    "\n",
    "\\begin{align}\n",
    "E(p) &= k.\\Omega(p)\\tag{fém}\\\\\n",
    "U_m(p)&=E(p)+RI(p)\\tag{circuit électrique}\\\\\n",
    "Jp \\Omega(p)&=kI(p)\\tag{moment d'inertie}\n",
    "\\end{align}\n",
    "\n",
    "\n",
    "* Objectif intermédiaire: \n",
    "\n",
    "On utilise les deux premières équations\n",
    "\n",
    "\\begin{align}\n",
    "U_m(p)&=k.\\Omega(p)+RI(p)\\tag{circuit électrique}\\\\\n",
    "Jp \\Omega(p)&=kI(p)\\tag{moment d'inertie}\n",
    "\\end{align}\n",
    "\n",
    "Ensuite, on multiplie la premiere equation par $k$ et on remplace le dernier terme:\n",
    "\n",
    "\\begin{align}\n",
    "kU_m(p)&=k^2.\\Omega(p)+RJp \\Omega(p)\n",
    "\\end{align}\n",
    "\n",
    "On factorise\n",
    "\n",
    "\\begin{align}\n",
    "kU_m(p)&=\\Omega(p)(k^2+RJp)\n",
    "\\end{align}\n",
    "\n",
    "\n",
    "\n",
    "\n",
    "Fonction de transfert:\n",
    "\n",
    "$$F(p)=\\frac{\\Omega(p)}{U_m(p)} = \\frac{k}{k^2+RJp}=\\frac{\\frac{1}{k}}{1+\\frac{RJ}{k^2}p}$$\n",
    "\n"
   ]
  },
  {
   "cell_type": "markdown",
   "metadata": {},
   "source": [
    "**Question 2:** \n",
    "\n",
    "* Déterminez le gain statique, la constante de temps et le temps de réponse à 5% de la valeur finale. \n",
    "* Déterminer ensuite les valeurs numériques lorsque $R= 10 \\Omega$, $k= 10 mNm/A$, $J =2.10^{-5}$ kg.m$^2$.\n"
   ]
  },
  {
   "cell_type": "markdown",
   "metadata": {},
   "source": [
    "**Réponse:** \n",
    "\n",
    "En identifiant les paramètres de notre fonction de transfert, nous obtenons :\n",
    "\n",
    "* Gain statique: $K=\\frac{1}{k}$\n",
    "* Constante de temps : $\\tau=\\frac{RJ}{k^2}$ (s)\n",
    "* temps de réponse à $\\pm 5\\%$: $t_r=3\\tau$ (s)"
   ]
  },
  {
   "cell_type": "code",
   "execution_count": 16,
   "metadata": {},
   "outputs": [
    {
     "name": "stdout",
     "output_type": "stream",
     "text": [
      "K=100.0\n",
      "tau=2.0 s\n",
      "tr=6.0 s\n"
     ]
    }
   ],
   "source": [
    "R = 10\n",
    "k = 10*(10**-3)\n",
    "J = 2*(10**-5)\n",
    "\n",
    "K = 1/k\n",
    "tau = R*J/(k**2)\n",
    "tr = 3*tau\n",
    "\n",
    "print(\"K={}\".format(K))\n",
    "print(\"tau={} s\".format(tau))\n",
    "print(\"tr={} s\".format(tr))"
   ]
  },
  {
   "cell_type": "markdown",
   "metadata": {},
   "source": [
    "Il peut être interessant de regarder la réponse indicielle du système (réponse à un échelon unitaire). Cette réponse se détermine facilement en Python."
   ]
  },
  {
   "cell_type": "code",
   "execution_count": 17,
   "metadata": {},
   "outputs": [
    {
     "data": {
      "image/png": "[encoded data removed]",
      "text/plain": [
       "<Figure size 432x288 with 1 Axes>"
      ]
     },
     "metadata": {
      "needs_background": "light"
     },
     "output_type": "display_data"
    }
   ],
   "source": [
    "sys = lti([K],[tau,1]) # doc : https://docs.scipy.org/doc/scipy/reference/generated/scipy.signal.lti.html\n",
    "t,s = sys.step()\n",
    "\n",
    "plt.plot(t,s)\n",
    "plt.grid()\n",
    "plt.xlabel(\"temps [s]\")\n",
    "plt.ylabel(\"Réponse indicielle\");"
   ]
  },
  {
   "cell_type": "markdown",
   "metadata": {},
   "source": [
    "## 2. Schéma fonctionnel de la régulation\n",
    "\n",
    "Le \"système\" (moteur avec sa charge) est inséré dans une boucle d'asservissement qui comprend les éléments suivants :\n",
    "\n",
    "* une dynamo tachymétrique intégrée au moteur qui mesure la vitesse de rotation. La dynamo délivre une tension continue proportionnelle à la vitesse de rotation du moteur. Le rapport de conversion est de 1V pour 1000 tr/mn.\n",
    "* un amplificateur de puissance, pouvant débiter 1 A max, de gain en tension $A = 10$, attaque le circuit d'induit du moteur.\n",
    "* un circuit de contrôle du moteur ou correcteur de fonction de transfert $C(p)$.\n",
    "\n",
    "**Question 3:** \n",
    "\n",
    "* Tracez le schéma fonctionnel de l'ensemble qui fait apparaître :\n",
    "    * la consigne (grandeur d'entrée);\n",
    "    * les différents blocs (moteur, dynamo,...) tel qu'ils doivent être assemblés ;\n",
    "    * la grandeur à contrôler (grandeur de sortie) ;\n",
    "    * la contre-réaction (chaîne de retour)\n",
    "\n",
    "* Déduisez en le schéma synoptique (blocs avec fonction de transfert) de la boucle de régulation **en faisant apparaître le retour unitaire**."
   ]
  },
  {
   "cell_type": "markdown",
   "metadata": {},
   "source": [
    "**Réponse:** \n",
    "\n",
    "<figure>\n",
    "    <img src=\"img/fig1_cor.png\" style=\"width: 600px\">\n",
    "    <figcaption style=\"text-align:center;font-style: italic;\">Fig2. Schéma fonctionnel de la régulation </figcaption>\n",
    "</figure>\n",
    "\n"
   ]
  },
  {
   "cell_type": "code",
   "execution_count": 18,
   "metadata": {},
   "outputs": [
    {
     "name": "stdout",
     "output_type": "stream",
     "text": [
      "0.009549296585513721\n"
     ]
    }
   ],
   "source": [
    "A = 10\n",
    "T = 1/(1000*2*np.pi/60) # Omega*T = V -> (1000*2*pi/60)*T=1 -> T = 1/((1000*2*pi/60))\n",
    "print(T)"
   ]
  },
  {
   "cell_type": "markdown",
   "metadata": {},
   "source": [
    "**Question 4:** \n",
    "\n",
    "* Calculez numériquement la fonction de transfert de l'ensemble à asservir [moteur avec sa charge, dynamo et amplificateur] notée :\n",
    "\n",
    "$$G(p) = \\frac{S(p)}{U_c(p)}$$\n",
    "\n",
    "* $S(p)$: sortie de la dynamo (en V)\n",
    "* $U_c(p)$: entrée de l'ampli"
   ]
  },
  {
   "cell_type": "markdown",
   "metadata": {},
   "source": [
    "### Mise en série de 3 systèmes.\n",
    "\n",
    "* Premier système: $U_m(p)=A \\times U_c(p)$\n",
    "* Second système: $\\Omega(p)=F(p)\\times U_m(p)$\n",
    "* Troisième système: $S(p)=T\\times\\Omega(p) $\n",
    "\n",
    "Donc nous obtenons : $S(p)=T\\times F(p)\\times A \\times U_c(p)$\n",
    "La fonction de transfert est égale à \n",
    "\n",
    "$$G(p)=\\frac{S(p)}{U_c(p)}=A T\\times F(p)=\\frac{ATK}{1+\\tau p}$$\n"
   ]
  },
  {
   "cell_type": "code",
   "execution_count": 19,
   "metadata": {},
   "outputs": [
    {
     "name": "stdout",
     "output_type": "stream",
     "text": [
      "9.549296585513721\n"
     ]
    },
    {
     "data": {
      "image/png": "[encoded data removed]",
      "text/plain": [
       "<Figure size 432x288 with 1 Axes>"
      ]
     },
     "metadata": {
      "needs_background": "light"
     },
     "output_type": "display_data"
    }
   ],
   "source": [
    "G = lti([A*T*K],[tau,1])\n",
    "t,s = G.step()\n",
    "\n",
    "plt.plot(t,s)\n",
    "plt.grid()\n",
    "plt.xlabel(\"temps [s]\")\n",
    "plt.ylabel(\"Réponse indicielle\")\n",
    "print(A*T*K)"
   ]
  },
  {
   "cell_type": "markdown",
   "metadata": {},
   "source": [
    "## 3. Correction Proportionnelle\n",
    "\n",
    "On souhaite asservir le système avec un correcteur proportionnel de fonction de transfert\n",
    "\n",
    "$$C(p)=K_c$$\n",
    "\n",
    "Notre objectif est ici de réduire le temps de réponse du système à la valeur $t_r=1$s."
   ]
  },
  {
   "cell_type": "markdown",
   "metadata": {},
   "source": [
    "**Question 5:** \n",
    "\n",
    "* Déterminer l'expression de la fonction de transfert en boucle fermée \n",
    "\n",
    "$$FTBF(p)=\\frac{S(p)}{U(p)}$$\n",
    "\n",
    "* $S(p)$: sortie de la dynamo (en V)\n",
    "* $U(p)$ : tension de consigne.\n"
   ]
  },
  {
   "cell_type": "markdown",
   "metadata": {},
   "source": [
    "$$FTBF(p)=\\frac{C(p)G(p)}{1+C(p)G(p)}$$\n",
    "\n",
    "$$FTBF(p)=\\frac{K_c\\frac{K_G}{1+\\tau p}}{1+K_C\\frac{K_G}{1+\\tau p}}$$\n",
    "\n",
    "$$FTBF(p)=\\frac{K_cK_G}{(1+\\tau p)\\left(1+K_C\\frac{K_G}{1+\\tau p}\\right)}$$\n",
    "\n",
    "$$FTBF(p)=\\frac{K_cK_G}{1+\\tau p+K_C K_G}$$\n",
    "\n",
    "\n",
    "$$FTBF(p)=\\frac{\\frac{K_cK_G}{1+K_C K_G}}{1+\\frac{\\tau}{1+K_cK_G} p}$$\n"
   ]
  },
  {
   "cell_type": "markdown",
   "metadata": {},
   "source": [
    "**Question 6:** \n",
    "\n",
    "* Déterminer la valeur de $K_c$ permettant d'obtenir en boucle fermée un temps de réponse égal à $t_r=1$s."
   ]
  },
  {
   "cell_type": "markdown",
   "metadata": {},
   "source": [
    "Par identification :\n",
    "\n",
    "* Gain statique: $K_{FTBF}=\\frac{K_cK_G}{1+K_C K_G}$,\n",
    "* Constante de temps : $\\tau_{FTBF}=\\frac{\\tau}{1+K_cK_G}$.\n",
    "\n",
    "Pour obtenir un temps de réponse de $t_r=1$s, nous devons avoir\n",
    "\n",
    "$$t_r= 3\\tau_{FTBF}=\\frac{3\\tau}{1+K_cK_G}=1$$\n",
    "\n",
    "Avec $K_G=9.549$, $\\tau=2$s, nous trouvons \n",
    "$$K_c=0.52$$"
   ]
  },
  {
   "cell_type": "markdown",
   "metadata": {},
   "source": [
    "On considère en entrée du système un echelon d'amplitude $U_0$ c-a-d \n",
    "\n",
    "$$u(t)=\\left\\{\\begin{array}{cc}\n",
    "U_0&\\text{si }t\\ge 0\\\\\n",
    "0 & \\text{ailleurs}\n",
    "\\end{array}\\right.$$\n",
    "\n",
    "**Question 7:** \n",
    "\n",
    "* Pour la valeur de $K_c$ déterminée, calculer \n",
    "    * l'erreur statique $\\epsilon(\\infty)=u(\\infty)-s(\\infty)$ en régime permanent,\n",
    "    * l'erreur statique relative (en pourcent) $\\epsilon_r(\\infty)=\\frac{\\epsilon(\\infty)}{u(\\infty)}\\times 100$"
   ]
  },
  {
   "cell_type": "markdown",
   "metadata": {},
   "source": [
    "**Réponse**\n",
    "\n",
    "* Valeur Finale : $s(\\infty)= K_{FTBF}\\times U_0=0.8323$\n",
    "* Erreur statique : $\\epsilon(\\infty)=U_0-K_{FTBF}\\times U_0=(1-K_{FTBF})U_0$.\n",
    "* Erreur statique relative: $\\epsilon_r(\\infty)=\\frac{\\epsilon(\\infty)}{u(\\infty)}\\times 100=100\\time (1-K_{FTBF})$."
   ]
  },
  {
   "cell_type": "code",
   "execution_count": 20,
   "metadata": {},
   "outputs": [
    {
     "name": "stdout",
     "output_type": "stream",
     "text": [
      "erreur statique relative: 16.763110428666263 (100\\%)\n"
     ]
    }
   ],
   "source": [
    "K_c = 0.52\n",
    "K_G = 9.549\n",
    "K_FTBF = K_c*K_G/(1+K_c*K_G)\n",
    "erreur_statique_relative = (1-K_FTBF)*100\n",
    "print(\"erreur statique relative: {} (100\\%)\".format(erreur_statique_relative))"
   ]
  }
 ],
 "metadata": {
  "kernelspec": {
   "display_name": "Python 3",
   "language": "python",
   "name": "python3"
  },
  "language_info": {
   "codemirror_mode": {
    "name": "ipython",
    "version": 3
   },
   "file_extension": ".py",
   "mimetype": "text/x-python",
   "name": "python",
   "nbconvert_exporter": "python",
   "pygments_lexer": "ipython3",
   "version": "3.8.5"
  }
 },
 "nbformat": 4,
 "nbformat_minor": 5
}
