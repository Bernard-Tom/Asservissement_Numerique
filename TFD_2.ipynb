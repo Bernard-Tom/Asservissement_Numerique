{
 "cells": [
  {
   "cell_type": "markdown",
   "metadata": {},
   "source": [
    "<img style=\"float: right;width: 100px\" src=\"https://www.enib.fr/images/logo-enib-accueil.jpg\">\n",
    "\n",
    "<div>\n",
    "    <p><h3>ASN S6O</h3></p>\n",
    "    <p>CHOQUEUSE Vincent</p>\n",
    "</div>\n",
    "\n",
    "<div style=\"text-align: center;padding-bottom:20px;padding-top:10px\">\n",
    "    <h1>TD4 :  Fonction de transfert échantillonnées</h1>\n",
    "</div>"
   ]
  },
  {
   "cell_type": "markdown",
   "metadata": {},
   "source": [
    "### Exercice 2 : Relations entre pôles continus et pôles échantillonnés - Notion de modes dominants\n",
    "\n",
    "Soit un système d'entrée $x[n]$ et de sortie $y[n]$ décrit par l'équation de récurrence suivante :\n",
    "\n",
    "\\begin{align}\n",
    "0.02y[n − 2] − 0.3y[n − 1] + y[n] &= e[n − 1] − 0.1e[n − 2]\\\\\n",
    "− 0.7e[n − 1] + e[n] &= x[n − 1]\n",
    "\\end{align}\n",
    "\n",
    "* $e[n]$ est une variable interne au système. On suppose les conditions initiales nulles. La période d'échantillonnage est fixée à $T_e = 0.1s$."
   ]
  },
  {
   "cell_type": "markdown",
   "metadata": {},
   "source": [
    "**Question 1.** Déterminez la fonction de transfert $F(z) = \\frac{Y (z)}{\n",
    "X(z)}$. Écrivez la en puissance positive."
   ]
  },
  {
   "cell_type": "markdown",
   "metadata": {},
   "source": [
    "**Réponse :** \n",
    "\n",
    "En utilisant la transformée en Z, nous obtenons :\n",
    "    \n",
    "\\begin{align*}\n",
    "0.02z^{-2}Y(z)-0.3z^{-1}Y(z)+Y(z)&= z^{-1}E(z)-0.1z^{-2}E(z)\\\\ \n",
    "-0,7z^{-1}E(z)+E(z)&= z^{-1}X(z)\n",
    "\\end{align*}\n",
    "  \n",
    "Ces relations sont équivalentes à \n",
    "\n",
    "\\begin{align*}\n",
    "Y(z)\\left(0.02z^{-2}-0.3z^{-1}+1\\right)&=E(z)\\left(z^{-1}-0.1z^{-2}\\right)\\\\\n",
    "E(z) &= \\frac{z^{-1}}{1-0,7z^{-1}}X(z)\n",
    "\\end{align*}\n",
    "\n",
    "En utilisant ces équations, nous en déduisons que\n",
    "\\begin{align*}\n",
    "Y(z)\\left(0,02z^{-2}-0,3z^{-1}+1\\right)=\\frac{z^{-2}-0.1z^{-3}}{1-0.7z^{-1}}X(z)\n",
    "\\end{align*}\n",
    "et donc\n",
    "\\begin{align*}\n",
    "F(z)=\\frac{Y(z)}{X(z)}=\\frac{z-0.1}{(0.02-0.3z+z^2)(z-0.7)}\n",
    "\\end{align*}"
   ]
  },
  {
   "cell_type": "markdown",
   "metadata": {},
   "source": [
    "**Question 2.** Détermination des pôles et zéros de $F(z)$. Montrez que :\n",
    "\n",
    "$$F(z)=\\frac{1}{(z-0.2)(z-0.7)}$$\n",
    "\n",
    "* Quels sont les pôles et zéro de $F(z)$ ?\n",
    "* Est elle stable ? pourquoi ?\n",
    "* Calculez son gain statique ?"
   ]
  },
  {
   "cell_type": "markdown",
   "metadata": {},
   "source": [
    "**Réponse :** \n",
    "\n",
    "Nous remarquons que $(0.02-0.3z+z^2)=(z-0.1)(z-0.2)$, donc sous sa forme simplifiée la fonction de transfert du système s'exprime sous la forme\n",
    "\n",
    "$$F(z)=\\frac{1}{(z-0.2)(z-0.7)}$$\n",
    "    \n",
    "* Pôles et Zéros: Pôles : $z_1=0.7$ et $z_2=0.2$ / Pas de zéros.\n",
    "* Le système $F(z)$ est stable car les modules des pôles $z_1 = 0.7$ et $z_2 = 0,2$ sont inférieurs à 1.\n",
    "* Le gain statique se calcule en prenant $z=1$, on obtient $F(1)=4.17$."
   ]
  },
  {
   "cell_type": "markdown",
   "metadata": {},
   "source": [
    "**Question 3.** Recherche du pôle dominant de $F(z)$.\n",
    "\n",
    "L'objectif est ici de rechercher le pôle dominant de $F(z)$. On appelle \"pôle dominant\" le pôle qui est le\n",
    "plus influent dans le comportement temporelle ou fréquentiel d'une fonction de transfert. Pour déterminez le pôle dominant, on va rechercher les pôles continus équivalents à nos deux pôles discrets.\n",
    "\n",
    "* Rappelez l'expression qui lie la variable de Laplace \"p\" et la variable \"z\". Cette relation permet le passage : plan des pôles continus $\\leftrightarrow$ plan des pôles échantillonnés.\n",
    "* Montrez que les pôles équivalents continus sont $p_1 = −3.57$ et $p_2 = −16$. Déduisez-en le pôle échantillonné dominant.\n",
    "\n",
    "> Remarque 1 : \"Pôle dominant continu\" : signifie pôle qui a le plus d'influence sur le comportement temporelle ou fréquentiel de la fonction de transfert. Il s'agit du pôle qui a le temps de réponse le plus important, donc la partie réelle la plus grande (la plus proche de l'axe imaginaire). On peut négliger le pôle qui n'est pas dominant.\n",
    "\n",
    "> Remarque 2 : On peut définir un pôle dominant p1 si on a $|\\Re e(p_1)| \\ll |\\Re e(p_2)|$. Si les parties réelles de deux pôles sont proches, on ne peut pas dire qu'un pôle domine un autre. La question est toujours \"A partir de quel rapport de constante de temps peut-on négliger un pôle ?\"."
   ]
  },
  {
   "cell_type": "markdown",
   "metadata": {},
   "source": [
    "**Réponse :** \n",
    "\n",
    "Pour passer des pôles continus au pôles discrets, nous utilisons la relation :\n",
    "\n",
    "$$z=e^{pT_e}$$\n",
    "\n",
    "Le système continu équivalent à $F(z)$ a pour fonction de transfert $F(p)$ avec les pôles $(p_1,p_2)$ tels que\n",
    "\n",
    "$$z_k = e^{p_k T_e}$$\n",
    "\n",
    "Nous obtenons donc\n",
    "\n",
    "\\begin{align*}\n",
    "        p_1 &= 10\\ln(0,7)=-3,57\\\\\n",
    "        p_2 &= 10\\ln(0,2)=-16,09\n",
    "\\end{align*}\n",
    "\n",
    "Le  pôle  dominant d'un système est celui qui a le plus d’influence sur le comportement du système. Pour un système à temps continu c'est le pôle le  plus  proche  de l’axe imaginaire (et donc le plus proche du cercle de rayon unité pour un système à temps discret). Pour le système à temps discret, c'est $z_1$ le pôle dominant (donc $p_1$ pour le système analogique)."
   ]
  },
  {
   "cell_type": "markdown",
   "metadata": {},
   "source": [
    "**Question 4.** Tracé de la réponse indicielle de $F(z)$ en tenant compte uniquement de son pôle dominant.\n",
    "\n",
    "On appelle $z_1$ le pôle dominant de $F(z)$. On appelle $F_a(z)$ la fonction de transfert qui tient uniquement compte du mode dominant $z_1$. On écrit :\n",
    "\n",
    "$$F_a(z)=\\frac{K_a}{z-z_1}$$\n",
    "\n",
    "Enlever le pôle $z_2$ dans $F(z)$ modifie le gain statique, et par conséquent la valeur finale de la réponse indicielle. Hors, si on veut que les deux fonctions de transfert $F(z)$ et $F_a(z)$ aient le même comportement temporel, cela signifie au minimum avoir le même gain statique (même valeur finale de la réponse indicielle. C'est pourquoi une variable d'ajustement par un gain $K_a$ est ajouté dans $F_a(z)$.\n",
    "\n",
    "* Déterminez le gain $K_a$ qui permet d'obtenir le même gain statique pour gain $F(z)$ et $F_a(z)$.\n",
    "* En prenant l'expression $F_a(z)$, calculez et tracez la réponse à un échelon unité.\n",
    "* Vous pouvez tracer sur \"Jupyter Notebook\" les réponses à un échelon des deux fonction de transfert et comparer les deux résultats."
   ]
  },
  {
   "cell_type": "markdown",
   "metadata": {},
   "source": [
    "**Réponse :** \n",
    "\n",
    "Nous pouvons écrire\n",
    "\n",
    "$$\\lim_{z\\to 1}F(z)=\\lim_{z\\to 1}F_a(z) \\Leftrightarrow \\frac{1}{(1-0,2)(1-0,7)}=\\frac{K_a}{1-0.7}$$\n",
    "\n",
    "Nous en déduisons que\n",
    "$$K_a=\\frac{1}{0.8}=1.25$$\n",
    "et finalement\n",
    "$$F_a(z)=\\frac{1.25}{z-0.7}$$\n",
    "\n",
    "La réponse indicielle du système simplifié s'exprime dans le domaine en $Z$ sous la forme\n",
    "\n",
    "$$Y(z)=F_a(z).X(z)$$\n",
    "\n",
    "avec $X(z)=\\frac{z}{z-1}$. D'après la table de transformées, nous obtenons :\n",
    "\n",
    "\\begin{align*}\n",
    "(1-e^{-anT_e})u[n] &\\xrightarrow[]{TZ} ~\\frac{(1-e^{-aT_e})}{(z-1)(z-e^{-aT_e})}\n",
    "\\end{align*}\n",
    "\n",
    "Nous en déduisons que :\n",
    "$$y[n]=TZ^{-1}(Y(z))=\\frac{K_a}{(1-e^{-aT_e})}\\left(1-e^{-anT_e}\\right)u[n]$$\n",
    "avec $e^{-aT_e}=0.7$ et $a=-10\\ln(0.7)=3.57$."
   ]
  },
  {
   "cell_type": "code",
   "execution_count": 8,
   "metadata": {},
   "outputs": [
    {
     "data": {
      "text/plain": [
       "[<matplotlib.lines.Line2D at 0x12236ee50>]"
      ]
     },
     "execution_count": 8,
     "metadata": {},
     "output_type": "execute_result"
    },
    {
     "data": {
      "image/png": "[encoded data removed]",
      "text/plain": [
       "<Figure size 432x288 with 1 Axes>"
      ]
     },
     "metadata": {
      "needs_background": "light"
     },
     "output_type": "display_data"
    }
   ],
   "source": [
    "import numpy as np\n",
    "import matplotlib.pyplot as plt\n",
    "\n",
    "def original_system(N,Te=1):\n",
    "    y_n_2 = 0\n",
    "    y_n_1 = 0\n",
    "    e_n_2 = 0\n",
    "    e_n_1 = 0\n",
    "    x_n_1 = 0\n",
    "\n",
    "    t = []\n",
    "    y = []\n",
    "\n",
    "    for n in np.arange(N):\n",
    "\n",
    "        if n > 0:\n",
    "            x = 1\n",
    "        else:\n",
    "            x = 0\n",
    "\n",
    "        y_n = e_n_1-0.1*e_n_2-0.02*y_n_2+0.3*y_n_1\n",
    "        e_n = x_n_1 +0.7*e_n_1\n",
    "\n",
    "        # update\n",
    "        e_n_2 = e_n_1\n",
    "        e_n_1 = e_n\n",
    "        y_n_2 = y_n_1\n",
    "        y_n_2 = y_n_1\n",
    "        y_n_1 = y_n\n",
    "        x_n_1 = x\n",
    "\n",
    "        # save\n",
    "        y.append(y_n)\n",
    "        t.append(n*Te)\n",
    "        \n",
    "    return t,y\n",
    "\n",
    "\n",
    "def approximate_system(N,Te = 1):\n",
    "    \n",
    "    \n",
    "    # F_a(z)=\\frac{1.25}{z-0.7}\n",
    "    # Y(z) = 1.25z^{-1} X(z)+0.7z^{-1}Y(z)\n",
    "    # y[n] = 1.25 x[n-1]+0.7 y[n-1]\n",
    "    \n",
    "    y_n_1 = 0\n",
    "    x_n_1 = 0\n",
    "\n",
    "    t = []\n",
    "    y = []\n",
    "\n",
    "    for n in np.arange(N):\n",
    "\n",
    "        if n > 0:\n",
    "            x = 1\n",
    "        else:\n",
    "            x = 0\n",
    "\n",
    "        y_n = 1.25*x_n_1+0.7*y_n_1\n",
    "\n",
    "        # update\n",
    "        y_n_1 = y_n\n",
    "        x_n_1 = x\n",
    "\n",
    "        # save\n",
    "        y.append(y_n)\n",
    "        t.append(n*Te)\n",
    "        \n",
    "    return t,y\n",
    "\n",
    "t,y1 = original_system(20,Te=0.1)\n",
    "t,y2 = approximate_system(20,Te = 0.1)\n",
    "\n",
    "plt.step(t,y1,where=\"post\",label=\"système original\")\n",
    "plt.step(t,y2,where=\"post\",label=\"système approché\")"
   ]
  },
  {
   "cell_type": "markdown",
   "metadata": {},
   "source": [
    "##### Caractéristique de la réponse indicielle\n",
    "\n",
    "* La valeur finale est : $\\lim_{n\\to+\\infty} y[n]=\\lim_{z\\to1}(z-1)Y(z)=4.17$,\n",
    "* Temps de réponse : $t_r=0.9s$,\n",
    "* Dépassement : $D=0\\%\\Leftrightarrow$ facteur d'amortissement équivalent d'un second ordre $m>1$"
   ]
  }
 ],
 "metadata": {
  "kernelspec": {
   "display_name": "Python 3",
   "language": "python",
   "name": "python3"
  },
  "language_info": {
   "codemirror_mode": {
    "name": "ipython",
    "version": 3
   },
   "file_extension": ".py",
   "mimetype": "text/x-python",
   "name": "python",
   "nbconvert_exporter": "python",
   "pygments_lexer": "ipython3",
   "version": "3.8.5"
  }
 },
 "nbformat": 4,
 "nbformat_minor": 5
}
