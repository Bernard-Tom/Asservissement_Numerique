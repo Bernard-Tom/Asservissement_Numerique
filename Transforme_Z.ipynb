{
 "cells": [
  {
   "cell_type": "markdown",
   "metadata": {},
   "source": [
    "# TD3 :  Transformée en Z\n",
    "\n",
    "> Semestre P2020\n",
    "    <p>CHOQUEUSE Vincent</p>"
   ]
  },
  {
   "cell_type": "markdown",
   "metadata": {},
   "source": [
    "## Partie 1 : Analyse de Signaux Numériques\n",
    "\n",
    "\n",
    "### Exercice 1 : Calcul de transformée en Z\n",
    "\n",
    "**Question.** Identifiez les fonctions de transfert continues des signaux suivants échantillonnés à la période de $T_e=0.1$s. Calculez leur transformées en $Z$ :\n",
    "\n",
    "* Impulsion unité décalée de k échantillons : \n",
    "\n",
    "$$\\delta[n-k]=\\left\\{\\begin{array}{cl}\n",
    "1&\\text{ si }n = k\\\\\n",
    "0&\\text{ ailleurs}\n",
    "\\end{array}\\right.$$\n",
    "\n",
    "* Echelon unité : \n",
    "\n",
    "$$u[n]=\\left\\{\\begin{array}{cl}\n",
    "1&\\text{ si }n\\ge 0\\\\\n",
    "0&\\text{ ailleurs}\n",
    "\\end{array}\\right.$$\n",
    "\n",
    "\n",
    "\n",
    "* Rampe unité : $r[n]$ :\n",
    "\n",
    "$$r[n]=\\left\\{\\begin{array}{cl}\n",
    "nT_e&\\text{ si }n\\ge 0\\\\\n",
    "0&\\text{ ailleurs}\n",
    "\\end{array}\\right.$$"
   ]
  },
  {
   "cell_type": "markdown",
   "metadata": {},
   "source": [
    "**Réponse**\n",
    "\n",
    "$$TZ[s[n]]=\\sum_{n=0}^{n=\\infty}s[n]z^{-n}$$\n",
    "\n",
    "\n",
    "* Impulsion : $TZ[\\delta[n-k]]=\\delta[n-k]z^{-k}=z^{-k}$\n",
    "* Echelon unité :\n",
    "\n",
    "\\begin{align}\n",
    "TZ[u[n]]&=\\sum_{n=0}^{n=\\infty}z^{-n}=\\sum_{n=0}^{n=\\infty}z^{-n}=\\frac{1}{1-z^{-1}}=\\frac{z}{z-1}\n",
    "\\end{align}\n",
    "\n",
    "\n",
    "* Rampe unité : $r[n]$ :\n",
    "\n",
    "\\begin{align}\n",
    "TZ[r[n]]&=\\sum_{n=0}^{n=\\infty}nT_e z^{-n}=T_e\\sum_{n=0}^{n=\\infty}nz^{-n}\n",
    "\\end{align}\n",
    "\n",
    "En dérivant $TZ[u[n]]$ par rapport à $z$, nous obtenons\n",
    "\n",
    "\\begin{align}\n",
    "\\frac{dTZ[u[n]]}{dz}&=-\\sum_{n=0}^{n=\\infty}nz^{-n-1}=-z^{-1}\\sum_{n=0}^{n=\\infty}n z^{-n}=-\\frac{1}{T_e}z^{-1}TZ[r[n]] \\\\\n",
    "\\frac{dTZ[u[n]]}{dz}&=\\frac{(z-1)-z}{(z-1)^2}=\\frac{(z-1)-z}{(z-1)^2}=-\\frac{1}{(z-1)^2}\\\\\n",
    "\\end{align}\n",
    "\n",
    "Par identification, nous trouvons $\\frac{1}{T_e}z^{-1}TZ[r[n]]=\\frac{1}{(z-1)^2}$ et donc\n",
    "\n",
    "$$TZ[r[n]]=\\frac{zT_e}{(z-1)^2}$$"
   ]
  },
  {
   "cell_type": "markdown",
   "metadata": {},
   "source": [
    "### Exercice 2 : Transformée en Z inverse\n",
    "\n",
    "\n",
    "**Question.** En utilisant les tables des transformées, déterminez-les transformées en $\\mathcal{Z}$ inverses des fonctions suivantes\n",
    "\n",
    "* Système 1 : \n",
    "\n",
    "$$F_1(z)=\\frac{1}{z-0.8}$$\n",
    "\n",
    "* Système 2 : \n",
    "\n",
    "$$F_2(z)=\\frac{z}{(z-1)(z-0.8)}$$"
   ]
  },
  {
   "cell_type": "markdown",
   "metadata": {},
   "source": [
    "**Réponse**\n",
    "\n",
    "* Système 1 :\n",
    "    \n",
    "$$F_1(z)=z^{-1}\\frac{z}{z-0.8}$$\n",
    "\n",
    "En utilisant la table des transformée en Z, nous trouvons $f_1[n]=0.8^{n-1} u[n-1]$\n",
    "\n",
    "* Système 2 :\n",
    "\n",
    "$$F_2(z)=\\frac{1}{1-0.8}\\frac{z(1-0.8)}{(z-1)(z-0.8)}=5\\frac{z(1-0.8)}{(z-1)(z-0.8)}$$\n",
    "\n",
    "Soit $e^{−aT_e} =0.8$, c-a-d $aT_e =0.223$. En utilisant la table des transformée en Z, nous trouvons $f_2[n]=5(1-e^{-0.223n})u[n]$\n"
   ]
  },
  {
   "cell_type": "markdown",
   "metadata": {},
   "source": [
    "## Partie 2 : Analyse de système numérique\n",
    "\n",
    "### Exercice 3 : Système de premier ordre\n",
    "\n",
    "On considère le système d'entrée $x[n]$ et de sortie $y[n]$ décrit par l'équation de récurrence suivante :\n",
    "\n",
    "$$y[n]=x[n]+0.9y[n-1]$$"
   ]
  },
  {
   "cell_type": "markdown",
   "metadata": {},
   "source": [
    "#### Fonction de transfert\n",
    "\n",
    "\n",
    "**Question.** Déterminer la fonction de transfert en Z du système (en utilisant des puissances de $z$ positives)"
   ]
  },
  {
   "cell_type": "markdown",
   "metadata": {},
   "source": [
    "**Réponse**\n",
    "\n",
    "En passant de la domaine en $Z$, nous trouvons\n",
    "\n",
    "\\begin{align}\n",
    "Y(z)&=X(z)+0.9z^{-1}Y(z)\\\\\n",
    "Y(z)-0.9z^{-1}Y(z)&=X(z)\\\\\n",
    "\\end{align}\n",
    "Nous trouvons :\n",
    "\\begin{align}\n",
    "Y(z)(1-0.9z^{-1})&=X(z)\n",
    "\\end{align}\n",
    "La fonction de transfert est alors donnée par\n",
    "\\begin{align}\n",
    "H(z)=\\frac{Y(z)}{X(z)}=\\frac{1}{1-0.9z^{-1}}=\\frac{z}{z-0.9}\n",
    "\\end{align}\n"
   ]
  },
  {
   "cell_type": "markdown",
   "metadata": {},
   "source": [
    "**Question.** Le système est-il stable ?"
   ]
  },
  {
   "cell_type": "markdown",
   "metadata": {},
   "source": [
    "**Réponse** Le système possède un pole en $z=0.9$. Comme $|z|<1$, le système est donc stable"
   ]
  },
  {
   "cell_type": "markdown",
   "metadata": {},
   "source": [
    "#### Réponse indicielle\n",
    "\n",
    "On injecte en entrée du système un échelon unitaire $x[n]=u[n]$. \n",
    "\n",
    "**Question.** En exploitant l'équation de récurrence, déterminer les $n=5$ premiers échantillons en sortie du filtre $y[n]$."
   ]
  },
  {
   "cell_type": "code",
   "execution_count": 69,
   "metadata": {},
   "outputs": [
    {
     "name": "stdout",
     "output_type": "stream",
     "text": [
      "y[0]=1.0\n",
      "y[1]=1.9\n",
      "y[2]=2.71\n",
      "y[3]=3.439\n",
      "y[4]=4.0951\n",
      "y[5]=4.68559\n",
      "y[6]=5.217031\n",
      "y[7]=5.6953279000000006\n",
      "y[8]=6.12579511\n",
      "y[9]=6.5132155990000005\n",
      "y[10]=6.861894039100001\n",
      "y[11]=7.175704635190001\n",
      "y[12]=7.458134171671\n",
      "y[13]=7.7123207545039\n",
      "y[14]=7.94108867905351\n",
      "y[15]=8.14697981114816\n",
      "y[16]=8.332281830033345\n",
      "y[17]=8.49905364703001\n",
      "y[18]=8.649148282327008\n",
      "y[19]=8.784233454094307\n",
      "y[20]=8.905810108684877\n",
      "y[21]=9.01522909781639\n",
      "y[22]=9.113706188034751\n",
      "y[23]=9.202335569231277\n",
      "y[24]=9.28210201230815\n",
      "y[25]=9.353891811077334\n",
      "y[26]=9.4185026299696\n",
      "y[27]=9.47665236697264\n",
      "y[28]=9.528987130275377\n",
      "y[29]=9.57608841724784\n"
     ]
    }
   ],
   "source": [
    "y_old = 0\n",
    "for n in range(30):\n",
    "    y = 1+0.9*y_old\n",
    "    y_old = y\n",
    "    print(\"y[{}]={}\".format(n,y))"
   ]
  },
  {
   "cell_type": "markdown",
   "metadata": {},
   "source": [
    "**Question**. Déterminer la transformée en $Z$ de la sortie, c-a-d $Y(z)$. Déduisez-en la valeur finale $y[\\infty]$."
   ]
  },
  {
   "cell_type": "markdown",
   "metadata": {},
   "source": [
    "**Réponse**\n",
    "\n",
    "Lorsque l'entrée est un échelon, nous trouvons\n",
    "\n",
    "\\begin{align}\n",
    "Y(z)=H(z)U(z)=\\frac{z}{z-0.9}\\times \\frac{z}{z-1}=\\frac{z^2}{(z-1)(z-0.9)}\n",
    "\\end{align}\n",
    "\n",
    "La valeur finale est donnée par\n",
    "\n",
    "$$y[\\infty]=\\lim_{z\\to 1}(z-1)Y(z)=\\frac{1}{(1-0.9)}=10$$"
   ]
  },
  {
   "cell_type": "markdown",
   "metadata": {},
   "source": [
    "**Question**. Déterminer l'expression de $y[n]$ à partir de $Y(z)$"
   ]
  },
  {
   "cell_type": "markdown",
   "metadata": {},
   "source": [
    "**Réponse**\n",
    "\n",
    "$$Y(z)=10\\frac{z}{z-1}-9\\frac{z}{z-0.9}$$\n",
    "\n",
    "En utilisant la table des transformée en Z, nous trouvons \n",
    "\n",
    "$$y[n]=10u[n]-9\\times(0.9^n) u[n]=(10-9\\left(0.9^n\\right))u[n]$$"
   ]
  },
  {
   "cell_type": "code",
   "execution_count": 87,
   "metadata": {},
   "outputs": [
    {
     "name": "stdout",
     "output_type": "stream",
     "text": [
      "y[0]=1.0\n",
      "y[1]=1.9000000000000004\n",
      "y[2]=2.709999999999999\n",
      "y[3]=3.438999999999999\n",
      "y[4]=4.0950999999999995\n",
      "y[5]=4.6855899999999995\n",
      "y[6]=5.2170309999999995\n",
      "y[7]=5.6953279\n",
      "y[8]=6.1257951099999985\n",
      "y[9]=6.513215598999999\n"
     ]
    }
   ],
   "source": [
    "for n in range(10):\n",
    "    y = (10-9*(0.9**n))*(n>=0)\n",
    "    print(\"y[{}]={}\".format(n,y))\n",
    "    "
   ]
  },
  {
   "cell_type": "code",
   "execution_count": 71,
   "metadata": {},
   "outputs": [
    {
     "data": {
      "text/plain": [
       "-0.10536051565782628"
      ]
     },
     "execution_count": 71,
     "metadata": {},
     "output_type": "execute_result"
    }
   ],
   "source": [
    "np.log(0.9)"
   ]
  },
  {
   "cell_type": "markdown",
   "metadata": {},
   "source": [
    "#### Réponse fréquentielle\n",
    "\n",
    "On considère une sinusoïde d'amplitude crête $3$, de pulsation $\\omega_0=1$ rad/s, c-a-d\n",
    "\n",
    "$$x(t)=3 \\cos(\\omega_0 t)$$\n",
    "\n",
    "Cette sinusoîde est échantillonnée à la fréquence d'échantillonnage $F_e=2$Hz, puis envoyée à l'entrée du système.\n",
    "\n",
    "**Question**. Déterminer l'expression de la sortie $y[n]$ en régime permanent."
   ]
  },
  {
   "cell_type": "markdown",
   "metadata": {},
   "source": [
    "**Réponse**\n",
    "\n",
    "En entrée, nous avons $x[n]=3\\cos(\\omega_0 nT_e)$. En régime permanent, la sortie est alors égale à \n",
    "\n",
    "$$y[n]=3|H(e^{j\\omega_0 T_e})|\\cos(\\omega_0 nT_e+\\arg[H(e^{j\\omega_0 T_e})])$$\n",
    "\n",
    "Nous trouvons alors\n",
    "\n",
    "$$y[n]=6.25\\cos(0.5n-1.117)$$\n",
    "\n"
   ]
  },
  {
   "cell_type": "code",
   "execution_count": 84,
   "metadata": {},
   "outputs": [
    {
     "data": {
      "text/plain": [
       "[<matplotlib.lines.Line2D at 0x7feabb124390>]"
      ]
     },
     "execution_count": 84,
     "metadata": {},
     "output_type": "execute_result"
    },
    {
     "data": {
      "image/png": "[encoded data removed]",
      "text/plain": [
       "<Figure size 432x288 with 1 Axes>"
      ]
     },
     "metadata": {
      "needs_background": "light"
     },
     "output_type": "display_data"
    },
    {
     "data": {
      "image/png": "[encoded data removed]",
      "text/plain": [
       "<Figure size 432x288 with 1 Axes>"
      ]
     },
     "metadata": {
      "needs_background": "light"
     },
     "output_type": "display_data"
    },
    {
     "data": {
      "image/png": "[encoded data removed]",
      "text/plain": [
       "<Figure size 432x288 with 1 Axes>"
      ]
     },
     "metadata": {
      "needs_background": "light"
     },
     "output_type": "display_data"
    }
   ],
   "source": [
    "import numpy as np\n",
    "from scipy.signal import dlti\n",
    "import matplotlib.pyplot as plt\n",
    "\n",
    "w0 = 1\n",
    "f0 = w0/(2*np.pi)\n",
    "Fe = 2\n",
    "Te = 1/Fe\n",
    "\n",
    "n = np.arange(200)\n",
    "t = n*Te\n",
    "x = 3*np.cos(w0*t)\n",
    "plt.stem(t,x)\n",
    "plt.xlim([20,40])\n",
    "\n",
    "H = dlti([1,0],[1,-0.9],dt=Te)\n",
    "plt.figure()\n",
    "\n",
    "t,y = H.output(x,t)\n",
    "t2 = np.arange(0,40,0.001)\n",
    "plt.stem(t,y)\n",
    "plt.plot(t2,6.25*np.cos(1*t2-1.117))\n",
    "plt.xlim([20,40])\n",
    "\n",
    "\n",
    "Omega,Hjw = H.freqresp()\n",
    "plt.figure()\n",
    "plt.loglog(Omega,np.abs(Hjw))\n"
   ]
  },
  {
   "cell_type": "code",
   "execution_count": null,
   "metadata": {},
   "outputs": [],
   "source": []
  }
 ],
 "metadata": {
  "kernelspec": {
   "display_name": "Python 3",
   "language": "python",
   "name": "python3"
  },
  "language_info": {
   "codemirror_mode": {
    "name": "ipython",
    "version": 3
   },
   "file_extension": ".py",
   "mimetype": "text/x-python",
   "name": "python",
   "nbconvert_exporter": "python",
   "pygments_lexer": "ipython3",
   "version": "3.8.5"
  }
 },
 "nbformat": 4,
 "nbformat_minor": 5
}
