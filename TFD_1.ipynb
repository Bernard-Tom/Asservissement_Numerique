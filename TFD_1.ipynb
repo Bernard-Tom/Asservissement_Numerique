{
 "cells": [
  {
   "cell_type": "markdown",
   "metadata": {},
   "source": [
    "<img style=\"float: right;width: 100px\" src=\"https://www.enib.fr/images/logo-enib-accueil.jpg\">\n",
    "\n",
    "<div>\n",
    "    <p><h3>ASN S6O</h3></p>\n",
    "    <p>CHOQUEUSE Vincent</p>\n",
    "</div>\n",
    "\n",
    "<div style=\"text-align: center;padding-bottom:20px;padding-top:10px\">\n",
    "    <h1>TD4 :  Fonction de transfert échantillonnées</h1>\n",
    "</div>"
   ]
  },
  {
   "cell_type": "markdown",
   "metadata": {},
   "source": [
    "### Exercice 1 : Analyse d'une fonction de transfert du 1er ordre - Boucle fermée\n",
    "\n",
    "Soit un système d'entrée $u_c[n]$, et de sortie $y[n]$ décrit par l'équation de récurrence suivante : \n",
    "\n",
    "$$y[n] + 0.3y[n − 1] = 5u_c[n − 1]$$\n",
    "\n",
    "* On suppose les conditions initiales nulles. La période d'échantillonnage est fixée à $T_e = 0.1$s\n"
   ]
  },
  {
   "cell_type": "markdown",
   "metadata": {},
   "source": [
    "**Question 1.** Déterminez la fonction de transfert $F(z) = \\frac{Y(z)}{U_c(z)}$. Écrivez la en puissance positive.\n",
    "\n",
    "**Réponse :** "
   ]
  },
  {
   "cell_type": "markdown",
   "metadata": {},
   "source": [
    "La relation de récurrence est tout d'abord exprimée dans le domaine en $Z$ :\n",
    "\n",
    "$$Y(z)+0.3z^{-1}Y(z)=5z^{-1}U_c(z)$$\n",
    "\n",
    "On en déduit que\n",
    "\n",
    "$$F(z)=\\frac{Y(z)}{U_c(z)}=\\frac{5z^{-1}}{1+0.3z^{-1}}$$\n",
    "\n",
    "ou de façon équivalente,\n",
    "$$\n",
    "F(z)=\\frac{5}{z+0,3}\n",
    "$$"
   ]
  },
  {
   "cell_type": "markdown",
   "metadata": {},
   "source": [
    "**Question 2.** Caractéristiques de la fonction de transfert $F(z)$:\n",
    "* Est elle stable ? pourquoi ?\n",
    "* Calculez son gain statique.\n",
    "* Calculez la réponse du système à un échelon unité $U[n]$ (originale).\n",
    "* Représentez graphiquement $y[n]$. Déterminez ses caractéristiques temporelles : temps de réponse,\n",
    "dépassement, facteur d'amortissement équivalent à un second ordre et valeur finale.\n",
    "\n",
    "> Remarque 1 : \"Facteur d'amortissement équivalent à un second ordre\" : veut dire qu'on assimile la réponse indicielle à celle d'un système du second ordre continu et on déduit les caractéristiques équivalentes à l'aide des tables et documents de cours.\n",
    "\n",
    "> Remarque 2 : Vous pouvez constater que F(z) est une FT du 1er ordre et sa réponse à un échelon présente un dépassement Il s'agit d'une particularité pour les systèmes échantillonnés du 1er ordre. Par contre, une FT continue du 1er ordre ne présente jamais de dépassement sur sa réponse indicielle\n",
    "\n",
    "**Réponse :** "
   ]
  },
  {
   "cell_type": "markdown",
   "metadata": {},
   "source": [
    "**Réponse :**\n",
    "\n",
    "Nous obtenons les résultats suivants :\n",
    "\n",
    "* La fonction $F(z)$ est stable car le module de son pôle $z_1 = -0,3$ est inférieur à 1 : $\\vert z_1 \\vert =0.3<1$.\n",
    "* Le gain statique se calcule en prenant $z=1$, on obtient $F(1)=5/1.3=3.85$.\n",
    "* Le système est excité par un échelon unité : $u_c[n]=U[n]$. Dans ce cas, d'après la table de TZ, $U_c(z)=\\frac{z}{z-1}$ et donc\n",
    "            \n",
    "$$Y(z)=F(z)U_c(z)=\\frac{5}{z+0.3}\\frac{z}{z-1}$$\n",
    "\n",
    "Le signal original $y[n]$ ne peut être obtenu directement à partir de la table de TZ d'où la décomposition en éléments simples. Pour cette approche :\n",
    "$$\\frac{Y(z)}{z}=\\frac{c_1}{z+0.3}+\\frac{c_2}{z-1}$$\n",
    "    avec \n",
    "        \\begin{align*}\n",
    "            c_1 &=\\left[(z+0,3).\\frac{Y(z)}{z}\\right]_{z=-0.3}=-\\frac{5}{1.3}\\\\\n",
    "            c_2 &=(z-1).\\left[\\frac{Y(z)}{z}\\right]_{z=1}=\\frac{5}{1.3}\n",
    "        \\end{align*}\n",
    "    On en déduit d'après la table que\n",
    "    \\begin{equation*}\n",
    "        y[n]=TZ^{-1}(Y(z))=3.85.(1-(-0.3)^n)u[n]\n",
    "    \\end{equation*}\n",
    "    "
   ]
  },
  {
   "cell_type": "code",
   "execution_count": 23,
   "metadata": {},
   "outputs": [
    {
     "data": {
      "text/plain": [
       "Text(0.5, 0, 'time (s)')"
      ]
     },
     "execution_count": 23,
     "metadata": {},
     "output_type": "execute_result"
    },
    {
     "data": {
      "image/png": "[encoded data removed]",
      "text/plain": [
       "<Figure size 432x288 with 1 Axes>"
      ]
     },
     "metadata": {
      "needs_background": "light"
     },
     "output_type": "display_data"
    }
   ],
   "source": [
    "import numpy as np\n",
    "import matplotlib.pyplot as plt\n",
    "\n",
    "y_n_1 = 0\n",
    "Te= 0.1\n",
    "y = []\n",
    "t = []\n",
    "for n in range(10):\n",
    "    if n >=1 :\n",
    "        u_n_1 = 1\n",
    "    else:\n",
    "        u_n_1 = 0\n",
    "        \n",
    "    y_n = 5*u_n_1 - 0.3*y_n_1\n",
    "    \n",
    "    y_n_1= y_n \n",
    "    y.append(y_n)\n",
    "    t.append(n*Te)\n",
    "    \n",
    "plt.step(t,y,where='post')\n",
    "plt.grid()\n",
    "plt.xlabel(\"time (s)\")"
   ]
  },
  {
   "cell_type": "markdown",
   "metadata": {},
   "source": [
    "##### Caractéristique de la réponse indicielle\n",
    "\n",
    "* Valeur finale : $\\lim_{n\\to+\\infty} y[n]=\\lim_{z\\to1}(z-1)Y(z)=\\frac{5}{1,3}=3.85$.\n",
    "* Temps de réponse : $t_r=3T_e=0.3s$.\n",
    "* Dépassement : $D=30\\%\\Leftrightarrow$ facteur d'amortissement équivalent d'un second ordre $m=0.35$.\n",
    "\n",
    "        \n",
    "> Remarque : Vous pouvez constater que $F(z)$ est une FT du $1^{er}$ ordre et sa réponse à un échelon présente un dépassement  Il s'agit d'une particularité pour les systèmes échantillonnés du $1^{er}$ ordre. Par contre, une FT continue du $1^{er}$ ordre ne présente jamais de dépassement sur sa réponse indicielle."
   ]
  },
  {
   "cell_type": "markdown",
   "metadata": {},
   "source": [
    "**Question 3.** Soit les équations de récurrence :\n",
    "    \n",
    "\\begin{align}\n",
    "\\epsilon[n]&=x[n]-y[n]\\\\\n",
    "u_c[n]&=A\\epsilon[n]\n",
    "\\end{align}\n",
    "\n",
    "Calculez la fonction de transfert échantillonnée $H(z) =\\frac{Y (z)}{X(z)}$ du système d'entrée $x[n]$ sortie $y[n]$ en employant deux méthodes.\n",
    "\n",
    "* 1ère méthode (classique) : passage des équations de récurrence en Z, puis résolution du système.\n",
    "* 2ème méthode : représentation sous forme de schéma bloc de chaque équation. Observez que l'on retrouve la structure de l'asservissement de la FT $F(z)$ à l'aide d'un correcteur proportionnel, $H(z)$ est alors la fonction de transfert en boucle fermée.\n",
    "\n"
   ]
  },
  {
   "cell_type": "markdown",
   "metadata": {},
   "source": [
    "**Réponse :** \n",
    "\n",
    "* Méthode classique : passage des équations de récurrence en Z, puis résolution du système.  \n",
    "        \n",
    "\n",
    "\\begin{align*}\n",
    "\\varepsilon(z)&=X(z)-Y(z) \\\\\n",
    "U_c(z)&= A\\varepsilon(z) \\\\\n",
    "zY(z)+0.3Y(z)&=5U_c(z)\n",
    "\\end{align*}\n",
    "        \n",
    "A partir de ces équations :\n",
    "        $$H(z)=\\frac{Y(z)}{X(z)}=\\frac{5.A}{z+(3+5A)}$$\n",
    "       \n",
    "* 2ème méthode : Soit les équations de récurrence suivantes :\n",
    "       \n",
    "\\begin{align}\n",
    "\\epsilon[n]&=x[n]-y[n]  \\tag{comparateur erreur}\\\\\n",
    "        u_c[n] &= A\\epsilon[n]  \\tag{correcteur proportionnel} \\\\\n",
    "        y[n]+0,3y(n-1) &= 5u_c[n-1] \\tag{FT à asservir $F(z)$}\n",
    "\\end{align}\n",
    "         \n",
    "         \n",
    "<figure style=\"padding-top: 40px\">\n",
    "    <img src=\"img/ftbf.png\" style=\"width: 400px\">\n",
    "    <figcaption style=\"text-align:center;font-style: italic;\">Fig1. Système en boucle fermée</figcaption>\n",
    "</figure>\n",
    "\n",
    "\n",
    "On déduit de ces relations que\n",
    "\n",
    "$$H(z)=\\frac{Y(z)}{X(z)}=\\frac{AF(z)}{1+AF(z)}=\\frac{5A}{z+(0,3+5A)}$$\n"
   ]
  },
  {
   "cell_type": "markdown",
   "metadata": {},
   "source": [
    "**Question 4.** Calcul du correcteur proportionnel $C(z) = A$\n",
    "\n",
    "On propose le cahier des charges suivant : la sortie $y[n] = \\alpha x[n − 1]$. La sortie $y[n]$ est donc la recopie de l'entrée avec un retard de $T_e$ seconde et un gain (ou atténuation) de $\\alpha$.\n",
    "\n",
    "Déterminez le correcteur proportionnel consiste à déterminer $C(z) = A$ qui permet de respecter ce cahier des charges.\n",
    "\n",
    "* Soit $H_m(z)$ la FT qui correspond à notre objectif, donné par l'équation de récurrence précédente.\n",
    "Déterminez $H_m(z) = \\frac{Y (z)}{X(z)}$\n",
    "* Respecter strictement le cahier des charges signifie ici assurer $H(z) = Hm(z)$. Déterminez la valeur du correcteur proportionnel $C(z) = A$.\n",
    "* Quelle est alors la valeur de $\\alpha$ ?\n",
    "* Tracez la réponse à un échelon unité de la fonction de transfert en boucle fermée et corrigée H(z). Donnez ses caractéristiques temporelles."
   ]
  },
  {
   "cell_type": "markdown",
   "metadata": {},
   "source": [
    "**Réponse :** \n",
    "\n",
    "La relation $y[n] = \\alpha .x[n-1]$ s'exprime dans le domaine en Z comme\n",
    "    $$H_m(z)=\\frac{Y(z)}{X(z)}=\\alpha z^{-1}=\\frac{\\alpha}{z}$$\n",
    "   \n",
    "Or, nous avons obtenu\n",
    "    $$H(z) =\\frac{5A}{z+(0.3+5A)}$$\n",
    "    \n",
    "En imposant $H_m(z)=H(z)$, nous obtenons l'égalité $0.3+5A=0$, c'est à dire $A=-0.3/5=-0,06$. Dans ce cas $H(z)=5Az^{-1}$, et donc \n",
    "    \n",
    "$$\\alpha=5A=-0.3$$\n"
   ]
  },
  {
   "cell_type": "code",
   "execution_count": 24,
   "metadata": {},
   "outputs": [
    {
     "data": {
      "image/png": "[encoded data removed]",
      "text/plain": [
       "<Figure size 432x288 with 1 Axes>"
      ]
     },
     "metadata": {
      "needs_background": "light"
     },
     "output_type": "display_data"
    }
   ],
   "source": [
    "A = -0.06\n",
    "u_n_1 = 0\n",
    "y_n_1 = 0\n",
    "\n",
    "\n",
    "t = []\n",
    "y = []\n",
    "for n in range(10):\n",
    "    if n >= 0:\n",
    "        x = 1\n",
    "    else:\n",
    "        x = 0\n",
    "        \n",
    "    y_n = 5*u_n_1 - 0.3*y_n_1\n",
    "    epsilon = x-y_n\n",
    "    u_n = A*epsilon\n",
    "    \n",
    "    # update\n",
    "    y_n_1 = y_n\n",
    "    u_n_1 = u_n\n",
    "    \n",
    "    # store\n",
    "    y.append(y_n)\n",
    "    t.append(n*Te)\n",
    "    \n",
    "plt.step(t,y,where='post')\n",
    "plt.grid()"
   ]
  },
  {
   "cell_type": "markdown",
   "metadata": {},
   "source": [
    "##### Caractéristique de la réponse indicielle\n",
    "\n",
    "* Le gain statique du système correspond à $H(1)=\\alpha=-0.3$.\n",
    "* La valeur finale est : $y[\\infty]= -0.3$.\n",
    "* Temps de réponse : $t_r=T_e=0.1s$.\n",
    "* Dépassement : $D=0\\%\\Leftrightarrow$ facteur d'amortissement équivalent d'un second ordre $m>1$"
   ]
  }
 ],
 "metadata": {
  "kernelspec": {
   "display_name": "Python 3",
   "language": "python",
   "name": "python3"
  },
  "language_info": {
   "codemirror_mode": {
    "name": "ipython",
    "version": 3
   },
   "file_extension": ".py",
   "mimetype": "text/x-python",
   "name": "python",
   "nbconvert_exporter": "python",
   "pygments_lexer": "ipython3",
   "version": "3.8.5"
  }
 },
 "nbformat": 4,
 "nbformat_minor": 5
}
